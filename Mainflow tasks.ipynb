{
 "cells": [
  {
   "cell_type": "code",
   "execution_count": 1,
   "id": "5d97adc5-5b57-4c00-8444-dbb1b3c66526",
   "metadata": {},
   "outputs": [
    {
     "name": "stdout",
     "output_type": "stream",
     "text": [
      "[1, 2, 3, 4]\n",
      "[1, 2, 3, 4, 5]\n",
      "[1, 3, 4, 5]\n",
      "[1, 3, 11, 5]\n"
     ]
    }
   ],
   "source": [
    "#creating a list\n",
    "list= [1,2,3,4]\n",
    "print(list)\n",
    "#adding an element to the list\n",
    "list.append(5)\n",
    "print(list)\n",
    "#removing an element from the list\n",
    "list.remove(2)\n",
    "print(list)\n",
    "#modifying an element in the list\n",
    "list[2]=11\n",
    "print(list)"
   ]
  },
  {
   "cell_type": "code",
   "execution_count": 2,
   "id": "bb2c5528-02fd-4b3e-a722-aa2e22087769",
   "metadata": {},
   "outputs": [
    {
     "name": "stdout",
     "output_type": "stream",
     "text": [
      "{'name': 'anji', 'age': 29, 'city': 'chennai'}\n",
      "{'name': 'anji', 'age': 29, 'city': 'chennai', 'gender': 'male'}\n",
      "{'name': 'anji', 'city': 'chennai', 'gender': 'male'}\n",
      "{'name': 'anji', 'city': 'new york', 'gender': 'male'}\n",
      "updated dictionary {'name': 'anji', 'city': 'new york', 'gender': 'male'}\n"
     ]
    }
   ],
   "source": [
    "#Creating a dictionary\n",
    "dict={'name':'anji','age':29,'city':'chennai'}\n",
    "print(dict)\n",
    "#adding\n",
    "dict['gender']='male'\n",
    "print(dict)\n",
    "#removing\n",
    "del dict['age']\n",
    "print(dict)\n",
    "#modifying\n",
    "dict['city']='new york'\n",
    "print(dict)\n",
    "\n",
    "print(\"updated dictionary\",dict)"
   ]
  },
  {
   "cell_type": "code",
   "execution_count": 3,
   "id": "fda6c4eb-7f83-451c-a366-b2fa103d7b8c",
   "metadata": {},
   "outputs": [
    {
     "name": "stdout",
     "output_type": "stream",
     "text": [
      "{1, 2, 3, 4, 5}\n",
      "{1, 2, 3, 4, 5, 10}\n",
      "{1, 2, 4, 5, 10}\n",
      "{1, 4, 5, 10, 11}\n"
     ]
    }
   ],
   "source": [
    "#Creating a set\n",
    "set={1,2,3,4,5}\n",
    "print(set)\n",
    "#adding\n",
    "set.add(10)\n",
    "print(set)\n",
    "#removing\n",
    "set.remove(3)\n",
    "print(set)\n",
    "#modifying\n",
    "set.discard(2)\n",
    "set.add(11)\n",
    "print(set)"
   ]
  },
  {
   "cell_type": "code",
   "execution_count": null,
   "id": "d46d82e4-fe3f-4371-ac6c-18ec8f3d7779",
   "metadata": {},
   "outputs": [],
   "source": []
  }
 ],
 "metadata": {
  "kernelspec": {
   "display_name": "Python 3 (ipykernel)",
   "language": "python",
   "name": "python3"
  },
  "language_info": {
   "codemirror_mode": {
    "name": "ipython",
    "version": 3
   },
   "file_extension": ".py",
   "mimetype": "text/x-python",
   "name": "python",
   "nbconvert_exporter": "python",
   "pygments_lexer": "ipython3",
   "version": "3.12.4"
  }
 },
 "nbformat": 4,
 "nbformat_minor": 5
}
